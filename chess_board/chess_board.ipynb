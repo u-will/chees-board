{
 "metadata": {
  "language_info": {
   "codemirror_mode": {
    "name": "ipython",
    "version": 3
   },
   "file_extension": ".py",
   "mimetype": "text/x-python",
   "name": "python",
   "nbconvert_exporter": "python",
   "pygments_lexer": "ipython3",
   "version": "3.7.4-final"
  },
  "orig_nbformat": 2,
  "kernelspec": {
   "name": "python3",
   "display_name": "Python 3"
  }
 },
 "nbformat": 4,
 "nbformat_minor": 2,
 "cells": [
  {
   "cell_type": "code",
   "execution_count": 1,
   "metadata": {},
   "outputs": [],
   "source": [
    "import numpy as np\n",
    "import matplotlib.pyplot as plt"
   ]
  },
  {
   "cell_type": "code",
   "execution_count": 2,
   "metadata": {},
   "outputs": [],
   "source": [
    "class ChessBoard():\n",
    "\n",
    "    def __init__(self):\n",
    "        self.red = None\n",
    "        self.blue = None\n",
    "        self.grid = np.zeros((8, 8, 4))\n",
    "        white_tile = True\n",
    "        for i in range(8):\n",
    "            for j in range(8):\n",
    "                if white_tile:\n",
    "                    self.grid[i][j] = (1, 1, 1, .5)\n",
    "                    white_tile = False\n",
    "                else:\n",
    "                    cself.grid[i][j] = (0, 0, 0, .5)\n",
    "                    white_tile = True\n",
    "\n",
    "    def render(self):\n",
    "        plt.imshow(self.grid)\n",
    "\n",
    "    def add_red(self, row, column):\n",
    "        self.grid[row][column] = (1, 0, 0, .5)\n",
    "        self.red = [row, column]\n",
    "    \n",
    "    def add_blue(self, row, column):\n",
    "        self.grid[row][column] = (0, 0, 1, .5)\n",
    "        self.blue = [row, column]\n",
    "\n",
    "    def is_under_attack(self):\n",
    "        if not self.red or not self.blue:\n",
    "            raise TypeError\n",
    "        if red[0] == blue[0] or red[1] == blue[1] or abs(red[0]-blue[0]) == abs(red[1]-blue[1]):\n",
    "            return True\n",
    "        else:\n",
    "            return False\n"
   ]
  },
  {
   "cell_type": "code",
   "execution_count": null,
   "metadata": {},
   "outputs": [],
   "source": [
    "checkered = ChessBoard()\n",
    "checkered.render()"
   ]
  }
 ]
}